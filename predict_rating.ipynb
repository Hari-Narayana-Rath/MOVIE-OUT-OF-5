{
  "cells": [
    {
      "cell_type": "markdown",
      "metadata": {
        "id": "view-in-github",
        "colab_type": "text"
      },
      "source": [
        "<a href=\"https://colab.research.google.com/github/Hari-Narayana-Rath/MOVIE-OUT-OF-5/blob/main/predict_rating.ipynb\" target=\"_parent\"><img src=\"https://colab.research.google.com/assets/colab-badge.svg\" alt=\"Open In Colab\"/></a>"
      ]
    },
    {
      "cell_type": "markdown",
      "source": [
        "### data fetching and libraries\n"
      ],
      "metadata": {
        "id": "DYkvuXikGLOB"
      }
    },
    {
      "cell_type": "code",
      "execution_count": null,
      "metadata": {
        "id": "gj9b2JGJYebM"
      },
      "outputs": [],
      "source": [
        "!pip -q install kaggle"
      ]
    },
    {
      "cell_type": "code",
      "execution_count": null,
      "metadata": {
        "id": "J9MZ_tKsYlPf"
      },
      "outputs": [],
      "source": [
        "import os\n",
        "import pandas as pd\n",
        "import re\n",
        "from sklearn.model_selection import train_test_split\n",
        "from sklearn.feature_extraction.text import TfidfVectorizer\n",
        "from sklearn.linear_model import LinearRegression\n",
        "from sklearn.metrics import mean_squared_error\n",
        "import numpy as np"
      ]
    },
    {
      "cell_type": "code",
      "execution_count": null,
      "metadata": {
        "id": "iI5EgXzJZABi"
      },
      "outputs": [],
      "source": [
        "def download_kaggle_dataset():\n",
        "    os.environ[\"KAGGLE_CONFIG_DIR\"] = os.getcwd()\n",
        "    os.system(\"kaggle datasets download -d lakshmi25npathi/imdb-dataset-of-50k-movie-reviews --unzip\")\n",
        "\n",
        "# Check if dataset exists, otherwise download\n",
        "if not os.path.exists(\"IMDB Dataset.csv\"):\n",
        "    download_kaggle_dataset()"
      ]
    },
    {
      "cell_type": "code",
      "execution_count": null,
      "metadata": {
        "id": "IbAUBt-WZCpC"
      },
      "outputs": [],
      "source": [
        "data = pd.read_csv(\"IMDB Dataset.csv\")\n",
        "data = data.rename(columns={\"review\": \"text\", \"sentiment\": \"rating\"})"
      ]
    },
    {
      "cell_type": "code",
      "execution_count": null,
      "metadata": {
        "id": "7w_VJN9WZGMD"
      },
      "outputs": [],
      "source": [
        "data[\"rating\"] = data[\"rating\"].map({\"positive\": 5, \"negative\": 1})"
      ]
    },
    {
      "cell_type": "markdown",
      "source": [
        "### data pre processing and cleaning"
      ],
      "metadata": {
        "id": "K5_5_0GXGWSn"
      }
    },
    {
      "cell_type": "code",
      "execution_count": null,
      "metadata": {
        "id": "c_KvHhc_ZGoz"
      },
      "outputs": [],
      "source": [
        "def preprocess_text(text):\n",
        "    # Remove HTML tags\n",
        "    text = re.sub(r\"<.*?>\", \"\", text)\n",
        "    # Remove special characters\n",
        "    text = re.sub(r\"[^a-zA-Z\\s]\", \"\", text)\n",
        "    # Convert to lowercase\n",
        "    text = text.lower()\n",
        "    return text"
      ]
    },
    {
      "cell_type": "code",
      "execution_count": null,
      "metadata": {
        "id": "9YxmPP-vZIdK"
      },
      "outputs": [],
      "source": [
        "data[\"text\"] = data[\"text\"].apply(preprocess_text)"
      ]
    },
    {
      "cell_type": "markdown",
      "source": [
        "### splitting of the data into train and test"
      ],
      "metadata": {
        "id": "s6aIowDeJQeK"
      }
    },
    {
      "cell_type": "code",
      "source": [
        "X = data[\"text\"]\n",
        "y = data[\"rating\"]"
      ],
      "metadata": {
        "id": "zYg5hLemG9ld"
      },
      "execution_count": null,
      "outputs": []
    },
    {
      "cell_type": "code",
      "execution_count": null,
      "metadata": {
        "id": "Kauo-HPTZKiT"
      },
      "outputs": [],
      "source": [
        "X_train, X_test, y_train, y_test = train_test_split(X, y, test_size=0.2, random_state=42)"
      ]
    },
    {
      "cell_type": "markdown",
      "source": [
        "### model training and rmse"
      ],
      "metadata": {
        "id": "j40kQ06tJXMC"
      }
    },
    {
      "cell_type": "code",
      "execution_count": null,
      "metadata": {
        "id": "kIPJx7FLZL9z"
      },
      "outputs": [],
      "source": [
        "tfidf = TfidfVectorizer(max_features=5000)\n",
        "X_train_tfidf = tfidf.fit_transform(X_train)\n",
        "X_test_tfidf = tfidf.transform(X_test)"
      ]
    },
    {
      "cell_type": "code",
      "execution_count": null,
      "metadata": {
        "id": "AwS1PiHRZNbr",
        "colab": {
          "base_uri": "https://localhost:8080/"
        },
        "outputId": "c2e6ab93-a13c-489d-d6c9-8b63b81e0700"
      },
      "outputs": [
        {
          "output_type": "stream",
          "name": "stdout",
          "text": [
            "the rmse for is :1.3118348826834734\n"
          ]
        }
      ],
      "source": [
        "model = LinearRegression()\n",
        "model.fit(X_train_tfidf, y_train)\n",
        "\n",
        "# Step 8: Evaluate Model\n",
        "y_pred = model.predict(X_test_tfidf)\n",
        "rmse = np.sqrt(mean_squared_error(y_test, y_pred))\n",
        "print(f\"the rmse for is :{rmse}\")"
      ]
    },
    {
      "cell_type": "markdown",
      "source": [
        "### working model"
      ],
      "metadata": {
        "id": "IzR7IFgXJjKC"
      }
    },
    {
      "cell_type": "code",
      "execution_count": null,
      "metadata": {
        "id": "mOvzojg3ZPTL"
      },
      "outputs": [],
      "source": [
        "def predict_rating(review):\n",
        "    preprocessed_review = preprocess_text(review)\n",
        "    review_tfidf = tfidf.transform([preprocessed_review])\n",
        "    rating = model.predict(review_tfidf)[0]\n",
        "    return round(rating, 2)"
      ]
    },
    {
      "cell_type": "code",
      "execution_count": null,
      "metadata": {
        "colab": {
          "base_uri": "https://localhost:8080/"
        },
        "id": "vI665oJKZR_-",
        "outputId": "808840c8-458e-404c-f246-f469d2ef3844"
      },
      "outputs": [
        {
          "name": "stdout",
          "output_type": "stream",
          "text": [
            "Enter a movie review (or 'exit' to quit): Best indian movie ever.an amazing directer SS Rajamouli made a movie in 2015 with a sequel in 2017  that managed to hit theatres all over the world and also   non indians watched it and gave good reviews.all genres are well mixed -action,drama,romance a little bit of comedy makes bahubali the best.Amazing CGI  says IN YOUR FACE to other indian movies.amazing cinematography,story,makeup and BGM. Cast- I was impressed in everyone's acting.the magnum opus made a boost to the already popualar actors career. PRABHAS-what should i say. he is the bahubali so there is not much to talk about him cause he is just tooooo good. RANA DAGGUBATI-he is actually having the best perfomance.i actually felt that i liked him who is the villain  and not prabhas who is the hero.he only had few years of experience of acting after a couple of flops.but he is just amazing.He also managed to get into bollywood TAMANNAAH-tamanaah got little screen time, but that doesn't matter. it is that she impressed me with her skills within that short screen time.a thing about tamanaah is that she usually refuses to a movie if she just stays there to look good besides the hero, being saved multiple times.in this she potrays a rebel woman who has impressive sword fight skills,who fallls in love with prabhas after she drops her mask tempting him to find her.while wooing her he finds out that devasena is his mother and many other stories about his family story\n",
            "Predicted Rating: 4.36 / 5\n",
            "Enter a movie review (or 'exit' to quit): Smart enough to hold audience for part 2.   In beginning climbing a waterfall hill is merely impossible.Again prabhas lifts 100 feet high statue in a single hand which is not possible by more than 100 people. I don't understand if he is hero or superman.  Anushka's makeup is awkward.Rana looks young even in old age.  Climax is suspense as it will be shown in part 2. First half holds us in grip. Second half will be flashback and war. War is really foolish and silly.  Shivudu(prabhas),climbs a waterfall hill to find what is above it.He discovers tamanna. She falls in love with her. She wants him to release devasena(anushka) who is in custody of ballala deva(Rana).  It is better if rajamouli stops making movies.\n",
            "Predicted Rating: 2.04 / 5\n",
            "Enter a movie review (or 'exit' to quit): exit\n"
          ]
        }
      ],
      "source": [
        "while True:\n",
        "    review = input(\"Enter a movie review (or 'exit' to quit): \")\n",
        "    if review.lower() == \"exit\":\n",
        "        break\n",
        "    predicted_rating = predict_rating(review)\n",
        "    print(f\"Predicted Rating: {predicted_rating} / 5\")"
      ]
    },
    {
      "cell_type": "code",
      "source": [],
      "metadata": {
        "id": "hgi8fn7qLDaJ"
      },
      "execution_count": null,
      "outputs": []
    }
  ],
  "metadata": {
    "colab": {
      "provenance": [],
      "authorship_tag": "ABX9TyOcVtYsrvJwyGugsBaa2/6r",
      "include_colab_link": true
    },
    "kernelspec": {
      "display_name": "Python 3",
      "name": "python3"
    },
    "language_info": {
      "name": "python"
    }
  },
  "nbformat": 4,
  "nbformat_minor": 0
}